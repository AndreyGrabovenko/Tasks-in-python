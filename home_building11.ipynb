{
 "cells": [
  {
   "cell_type": "markdown",
   "id": "93282d27",
   "metadata": {},
   "source": [
    "# Дана функция f(x) = -8x^2+3x+17, для построения графика f(x) =-12*x**4*sin(cos(x))-18*x**3+5*x**2+10*x-30"
   ]
  },
  {
   "cell_type": "markdown",
   "id": "7788cbad",
   "metadata": {},
   "source": [
    "## 1.   Определить корни\n"
   ]
  },
  {
   "cell_type": "code",
   "execution_count": 9,
   "id": "a70722a2",
   "metadata": {},
   "outputs": [
    {
     "name": "stdout",
     "output_type": "stream",
     "text": [
      "-1.2822470020381058 1.6572470020381058\n"
     ]
    }
   ],
   "source": [
    "from sympy import *\n",
    "\n",
    "x = Symbol('x')\n",
    "func=-8*x**2+3*x+17\n",
    "y=solve(func)\n",
    "x1=float(y[0])\n",
    "x2=float(y[1])\n",
    "print(x1,x2)\n"
   ]
  },
  {
   "cell_type": "markdown",
   "id": "99dc5ee3",
   "metadata": {},
   "source": [
    "## 2.   Найти интервалы, на которых функция возрастает\n",
    "\n"
   ]
  },
  {
   "cell_type": "code",
   "execution_count": 10,
   "id": "2c05b425",
   "metadata": {},
   "outputs": [
    {
     "name": "stdout",
     "output_type": "stream",
     "text": [
      "(-oo < x) & (x < 3/16)\n"
     ]
    }
   ],
   "source": [
    "fd=diff(func)\n",
    "print(solve(0<fd))"
   ]
  },
  {
   "cell_type": "markdown",
   "id": "76108340",
   "metadata": {},
   "source": [
    "## 3.\tНайти интервалы, на которых функция убывает"
   ]
  },
  {
   "cell_type": "code",
   "execution_count": 11,
   "id": "eaa2a286",
   "metadata": {},
   "outputs": [
    {
     "name": "stdout",
     "output_type": "stream",
     "text": [
      "(3/16 < x) & (x < oo)\n"
     ]
    }
   ],
   "source": [
    "print(solve(fd<0))"
   ]
  },
  {
   "cell_type": "markdown",
   "id": "07bb5f57",
   "metadata": {},
   "source": [
    "## 4.\tПостроить график"
   ]
  },
  {
   "cell_type": "code",
   "execution_count": 3,
   "id": "f4c3a334",
   "metadata": {},
   "outputs": [
    {
     "name": "stdout",
     "output_type": "stream",
     "text": [
      "[18048970 - 1200000000*sin(cos(100)), 17513367 - 1152715212*sin(cos(99)), 16988466 - 1106841792*sin(cos(98)), 16474159 - 1062351372*sin(cos(97)), 15970338 - 1019215872*sin(cos(96)), 15476895 - 977407500*sin(cos(95)), 14993722 - 936898752*sin(cos(94)), 14520711 - 897662412*sin(cos(93)), 14057754 - 859671552*sin(cos(92)), 13604743 - 822899532*sin(cos(91)), 13161570 - 787320000*sin(cos(90)), 12728127 - 752906892*sin(cos(89)), 12304306 - 719634432*sin(cos(88)), 11889999 - 687477132*sin(cos(87)), 11485098 - 656409792*sin(cos(86)), 11089495 - 626407500*sin(cos(85)), 10703082 - 597445632*sin(cos(84)), 10325751 - 569499852*sin(cos(83)), 9957394 - 542546112*sin(cos(82)), 9597903 - 516560652*sin(cos(81)), 9247170 - 491520000*sin(cos(80)), 8905087 - 467400972*sin(cos(79)), 8571546 - 444180672*sin(cos(78)), 8246439 - 421836492*sin(cos(77)), 7929658 - 400346112*sin(cos(76)), 7621095 - 379687500*sin(cos(75)), 7320642 - 359838912*sin(cos(74)), 7028191 - 340778892*sin(cos(73)), 6743634 - 322486272*sin(cos(72)), 6466863 - 304940172*sin(cos(71)), 6197770 - 288120000*sin(cos(70)), 5936247 - 272005452*sin(cos(69)), 5682186 - 256576512*sin(cos(68)), 5435479 - 241813452*sin(cos(67)), 5196018 - 227696832*sin(cos(66)), 4963695 - 214207500*sin(cos(65)), 4738402 - 201326592*sin(cos(64)), 4520031 - 189035532*sin(cos(63)), 4308474 - 177316032*sin(cos(62)), 4103623 - 166150092*sin(cos(61)), 3905370 - 155520000*sin(cos(60)), 3713607 - 145408332*sin(cos(59)), 3528226 - 135797952*sin(cos(58)), 3349119 - 126672012*sin(cos(57)), 3176178 - 118013952*sin(cos(56)), 3009295 - 109807500*sin(cos(55)), 2848362 - 102036672*sin(cos(54)), 2693271 - 94685772*sin(cos(53)), 2543914 - 87739392*sin(cos(52)), 2400183 - 81182412*sin(cos(51)), 2261970 - 75000000*sin(cos(50)), 2129167 - 69177612*sin(cos(49)), 2001666 - 63700992*sin(cos(48)), 1879359 - 58556172*sin(cos(47)), 1762138 - 53729472*sin(cos(46)), 1649895 - 49207500*sin(cos(45)), 1542522 - 44977152*sin(cos(44)), 1439911 - 41025612*sin(cos(43)), 1341954 - 37340352*sin(cos(42)), 1248543 - 33909132*sin(cos(41)), 1159570 - 30720000*sin(cos(40)), 1074927 - 27761292*sin(cos(39)), 994506 - 25021632*sin(cos(38)), 918199 - 22489932*sin(cos(37)), 845898 - 20155392*sin(cos(36)), 777495 - 18007500*sin(cos(35)), 712882 - 16036032*sin(cos(34)), 651951 - 14231052*sin(cos(33)), 594594 - 12582912*sin(cos(32)), 540703 - 11082252*sin(cos(31)), 490170 - 9720000*sin(cos(30)), 442887 - 8487372*sin(cos(29)), 398746 - 7375872*sin(cos(28)), 357639 - 6377292*sin(cos(27)), 319458 - 5483712*sin(cos(26)), 284095 - 4687500*sin(cos(25)), 251442 - 3981312*sin(cos(24)), 221391 - 3358092*sin(cos(23)), 193834 - 2811072*sin(cos(22)), 168663 - 2333772*sin(cos(21)), 145770 - 1920000*sin(cos(20)), 125047 - 1563852*sin(cos(19)), 106386 - 1259712*sin(cos(18)), 89679 - 1002252*sin(cos(17)), 74818 - 786432*sin(cos(16)), 61695 - 607500*sin(cos(15)), 50202 - 460992*sin(cos(14)), 40231 - 342732*sin(cos(13)), 31674 - 248832*sin(cos(12)), 24423 - 175692*sin(cos(11)), 18370 - 120000*sin(cos(10)), 13407 - 78732*sin(cos(9)), 9426 - 49152*sin(cos(8)), 6319 - 28812*sin(cos(7)), 3978 - 15552*sin(cos(6)), 2295 - 7500*sin(cos(5)), 1162 - 3072*sin(cos(4)), 471 - 972*sin(cos(3)), 114 - 192*sin(cos(2)), -17 - 12*sin(cos(1)), -30, -33 - 12*sin(cos(1)), -134 - 192*sin(cos(2)), -441 - 972*sin(cos(3)), -1062 - 3072*sin(cos(4)), -2105 - 7500*sin(cos(5)), -15552*sin(cos(6)) - 3678, -28812*sin(cos(7)) - 5889, -8846 - 49152*sin(cos(8)), -12657 - 78732*sin(cos(9)), -17430 - 120000*sin(cos(10)), -23273 - 175692*sin(cos(11)), -248832*sin(cos(12)) - 30294, -342732*sin(cos(13)) - 38601, -460992*sin(cos(14)) - 48302, -59505 - 607500*sin(cos(15)), -72318 - 786432*sin(cos(16)), -86849 - 1002252*sin(cos(17)), -1259712*sin(cos(18)) - 103206, -1563852*sin(cos(19)) - 121497, -1920000*sin(cos(20)) - 141830, -164313 - 2333772*sin(cos(21)), -189054 - 2811072*sin(cos(22)), -216161 - 3358092*sin(cos(23)), -3981312*sin(cos(24)) - 245742, -4687500*sin(cos(25)) - 277905, -5483712*sin(cos(26)) - 312758, -350409 - 6377292*sin(cos(27)), -390966 - 7375872*sin(cos(28)), -434537 - 8487372*sin(cos(29)), -9720000*sin(cos(30)) - 481230, -11082252*sin(cos(31)) - 531153, -12582912*sin(cos(32)) - 584414, -641121 - 14231052*sin(cos(33)), -701382 - 16036032*sin(cos(34)), -765305 - 18007500*sin(cos(35)), -832998 - 20155392*sin(cos(36)), -22489932*sin(cos(37)) - 904569, -25021632*sin(cos(38)) - 980126, -27761292*sin(cos(39)) - 1059777, -1143630 - 30720000*sin(cos(40)), -1231793 - 33909132*sin(cos(41)), -1324374 - 37340352*sin(cos(42)), -41025612*sin(cos(43)) - 1421481, -44977152*sin(cos(44)) - 1523222, -49207500*sin(cos(45)) - 1629705, -1741038 - 53729472*sin(cos(46)), -1857329 - 58556172*sin(cos(47)), -1978686 - 63700992*sin(cos(48)), -69177612*sin(cos(49)) - 2105217, -75000000*sin(cos(50)) - 2237030, -81182412*sin(cos(51)) - 2374233, -2516934 - 87739392*sin(cos(52)), -2665241 - 94685772*sin(cos(53)), -2819262 - 102036672*sin(cos(54)), -2979105 - 109807500*sin(cos(55)), -118013952*sin(cos(56)) - 3144878, -126672012*sin(cos(57)) - 3316689, -135797952*sin(cos(58)) - 3494646, -3678857 - 145408332*sin(cos(59)), -3869430 - 155520000*sin(cos(60)), -4066473 - 166150092*sin(cos(61)), -177316032*sin(cos(62)) - 4270094, -189035532*sin(cos(63)) - 4480401, -201326592*sin(cos(64)) - 4697502, -4921505 - 214207500*sin(cos(65)), -5152518 - 227696832*sin(cos(66)), -5390649 - 241813452*sin(cos(67)), -256576512*sin(cos(68)) - 5636006, -272005452*sin(cos(69)) - 5888697, -288120000*sin(cos(70)) - 6148830, -6416513 - 304940172*sin(cos(71)), -6691854 - 322486272*sin(cos(72)), -6974961 - 340778892*sin(cos(73)), -359838912*sin(cos(74)) - 7265942, -379687500*sin(cos(75)) - 7564905, -400346112*sin(cos(76)) - 7871958, -8187209 - 421836492*sin(cos(77)), -8510766 - 444180672*sin(cos(78)), -8842737 - 467400972*sin(cos(79)), -9183230 - 491520000*sin(cos(80)), -516560652*sin(cos(81)) - 9532353, -542546112*sin(cos(82)) - 9890214, -569499852*sin(cos(83)) - 10256921, -10632582 - 597445632*sin(cos(84)), -11017305 - 626407500*sin(cos(85)), -11411198 - 656409792*sin(cos(86)), -687477132*sin(cos(87)) - 11814369, -719634432*sin(cos(88)) - 12226926, -752906892*sin(cos(89)) - 12648977, -13080630 - 787320000*sin(cos(90)), -13521993 - 822899532*sin(cos(91)), -13973174 - 859671552*sin(cos(92)), -897662412*sin(cos(93)) - 14434281, -936898752*sin(cos(94)) - 14905422, -977407500*sin(cos(95)) - 15386705, -15878238 - 1019215872*sin(cos(96)), -16380129 - 1062351372*sin(cos(97)), -16892486 - 1106841792*sin(cos(98)), -1152715212*sin(cos(99)) - 17415417, -1200000000*sin(cos(100)) - 17949030]\n"
     ]
    },
    {
     "data": {
      "text/plain": [
       "[<matplotlib.lines.Line2D at 0x2b8f4155370>]"
      ]
     },
     "execution_count": 3,
     "metadata": {},
     "output_type": "execute_result"
    },
    {
     "data": {
      "image/png": "[encoded data removed]",
      "text/plain": [
       "<Figure size 432x288 with 1 Axes>"
      ]
     },
     "metadata": {
      "needs_background": "light"
     },
     "output_type": "display_data"
    }
   ],
   "source": [
    "import matplotlib.pyplot as plt\n",
    "list_y=[]\n",
    "for i in range(-100,101):\n",
    "    x=i\n",
    "    y=-12*x**4*sin(cos(x)) - 18*x**3+5*x**2 + 10*x - 30\n",
    "    list_y.append(y)\n",
    "print(list_y)\n",
    "plt.plot(range(-100,101),list_y)"
   ]
  },
  {
   "cell_type": "markdown",
   "id": "a11ae732",
   "metadata": {},
   "source": [
    "## 5.\tВычислить вершину"
   ]
  },
  {
   "cell_type": "code",
   "execution_count": 12,
   "id": "a99b08c7",
   "metadata": {},
   "outputs": [
    {
     "name": "stdout",
     "output_type": "stream",
     "text": [
      "3/16 553/32\n"
     ]
    }
   ],
   "source": [
    "corni=solve(fd)\n",
    "top=corni[0]\n",
    "x=top\n",
    "y=-8*x**2+3*x+17\n",
    "print(top,y)\n"
   ]
  },
  {
   "cell_type": "markdown",
   "id": "2c434dc2",
   "metadata": {},
   "source": [
    "## 6.\tОпределить промежутки, на котором f > 0"
   ]
  },
  {
   "cell_type": "code",
   "execution_count": 13,
   "id": "406e34f4",
   "metadata": {},
   "outputs": [
    {
     "data": {
      "text/latex": [
       "$\\displaystyle x < \\frac{3}{16} + \\frac{\\sqrt{553}}{16} \\wedge \\frac{3}{16} - \\frac{\\sqrt{553}}{16} < x$"
      ],
      "text/plain": [
       "(x < 3/16 + sqrt(553)/16) & (3/16 - sqrt(553)/16 < x)"
      ]
     },
     "execution_count": 13,
     "metadata": {},
     "output_type": "execute_result"
    }
   ],
   "source": [
    "solve(0<func)"
   ]
  },
  {
   "cell_type": "markdown",
   "id": "20dc9379",
   "metadata": {},
   "source": [
    "## 7.\tОпределить промежутки, на котором f < 0"
   ]
  },
  {
   "cell_type": "code",
   "execution_count": 14,
   "id": "a427d3d1",
   "metadata": {},
   "outputs": [
    {
     "data": {
      "text/latex": [
       "$\\displaystyle \\left(-\\infty < x \\wedge x < \\frac{3}{16} - \\frac{\\sqrt{553}}{16}\\right) \\vee \\left(x < \\infty \\wedge \\frac{3}{16} + \\frac{\\sqrt{553}}{16} < x\\right)$"
      ],
      "text/plain": [
       "((-oo < x) & (x < 3/16 - sqrt(553)/16)) | ((x < oo) & (3/16 + sqrt(553)/16 < x))"
      ]
     },
     "execution_count": 14,
     "metadata": {},
     "output_type": "execute_result"
    }
   ],
   "source": [
    "solve(func<0)"
   ]
  },
  {
   "cell_type": "code",
   "execution_count": null,
   "id": "cb6266b2",
   "metadata": {},
   "outputs": [],
   "source": []
  }
 ],
 "metadata": {
  "interpreter": {
   "hash": "23b4a3e8622309bcc6db3d5cc6eb73d60ab98d9ec23bad6a26b709981ccb403a"
  },
  "kernelspec": {
   "display_name": "Python 3.9.12 64-bit (windows store)",
   "language": "python",
   "name": "python3"
  },
  "language_info": {
   "codemirror_mode": {
    "name": "ipython",
    "version": 3
   },
   "file_extension": ".py",
   "mimetype": "text/x-python",
   "name": "python",
   "nbconvert_exporter": "python",
   "pygments_lexer": "ipython3",
   "version": "3.9.13"
  }
 },
 "nbformat": 4,
 "nbformat_minor": 5
}
